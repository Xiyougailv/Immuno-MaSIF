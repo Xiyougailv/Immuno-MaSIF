{
 "cells": [
  {
   "cell_type": "code",
   "execution_count": null,
   "id": "e5e89896",
   "metadata": {},
   "outputs": [],
   "source": []
  },
  {
   "cell_type": "markdown",
   "id": "9235ed99",
   "metadata": {},
   "source": [
    "## Data Preparation\n",
    "1. （下载并）质子化PDB文件\n",
    "- source/data_preparation/00-pdb_download.py\n",
    "- 质子化使用的软件：reduce(https://github.com/rlabduke/)\n",
    "- 我的运行命令：(在MyMaSIF/source/文件夹下)"
   ]
  },
  {
   "cell_type": "code",
   "execution_count": 1,
   "id": "a30cbab8",
   "metadata": {},
   "outputs": [],
   "source": [
    "############# reduce PC端安装提示：\n",
    "'''\n",
    "installing /toolclasses...\n",
    "\n",
    "installing /libpdb...\n",
    "\n",
    "installing /reduce_src...\n",
    "mv reduce /usr/local/bin\n",
    "cp ../reduce_wwPDB_het_dict.txt /usr/local/reduce_wwPDB_het_dict.txt\n",
    "\n",
    "'''\n",
    "## 注意：上述安装提示默认将reduce更名为/usr/local/bin；通过cp复制了一份名为reduce"
   ]
  },
  {
   "cell_type": "code",
   "execution_count": null,
   "id": "7f3e1264",
   "metadata": {},
   "outputs": [],
   "source": [
    "## --- sys模块: 与python解释器交互的接口\n",
    "#           提供了许多函数和变量来处理python运行时环境的不同部分\n",
    "### 处理命令行参数：解释器启动后，argv列表包含了传递给脚本的所有参数：\n",
    "#  sys.argv[0]: 表示脚本自身的名称\n",
    "#  sys.argv[1]: 表示脚本的第一个参数\n",
    "#  sys.argv[2]: 表示脚本的第二个参数\n",
    "### 退出程序：\n",
    "#  sys.exit(n)退出程序；正常退出sys.exit(0)\n",
    "\n",
    "## --- tempfile 模块: 创建临时文件/文件夹\n",
    "#          使用场景：大型数据处理项目中，不需要向用户展示其处理结果，但贯穿项目始终\n",
    "### gettempdir()函数：返回临时文件夹名\n",
    "# 该函数的返回值是tempfile内的全局变量：即，返回的文件夹名将作为tempfile模块中的所有函数dir参数的默认值（？）"
   ]
  },
  {
   "cell_type": "markdown",
   "id": "1cfd178b",
   "metadata": {},
   "source": [
    "### Triangulation\n",
    "- Triangulate through MSMS（1996）; regularize meshes; compute chemical charges.\n",
    "- Computational items: APBS for PB-electrostatics; free electrons/protons; hydrophobicity; MSMS surface; normals of surface; Regularize MSMS mesh; output a PDB"
   ]
  },
  {
   "cell_type": "markdown",
   "id": "8d50fcb2",
   "metadata": {},
   "source": [
    "#### source/default_config/\n",
    "- chemistry.py: 设置 **atom radiuses / polar hydrogens / acceptor or donor for computation of angle and plane**  "
   ]
  },
  {
   "cell_type": "markdown",
   "id": "e1c473ed",
   "metadata": {},
   "source": [
    "#### Example 1: APBS\n",
    "- 返回：vertices一一对应的charge列表"
   ]
  },
  {
   "cell_type": "code",
   "execution_count": null,
   "id": "289d2d7e",
   "metadata": {},
   "outputs": [],
   "source": [
    "'''\n",
    "\n",
    "apbs_bin=\"\"\n",
    "if 'APBS_BIN' in os.environ:\n",
    "   apbs_bin = os.environ['APBS_BIN']\n",
    "else:\n",
    "  print(\"ERROR: APBS_BIN not set. Variable should point to APBS program.\")\n",
    "  sys.exit(1)\n",
    "  \n",
    "'''\n",
    "\n",
    "## --- os.environ: 获取环境变量\n",
    "# 环境变量：是程序和操作系统之间的通信方式；\n",
    "#  os.environ是环境变量的字典：如果有某个“键”，则返回对应的值\n"
   ]
  },
  {
   "cell_type": "code",
   "execution_count": null,
   "id": "e3fe0515",
   "metadata": {},
   "outputs": [],
   "source": [
    "'''\n",
    "\n",
    "fields = tmp_file_base.split(\"/\")[0:-1]\n",
    "    directory = \"/\".join(fields) + \"/\"\n",
    "  \n",
    "'''\n",
    "\n",
    "## --- split: 通过指定的分隔符对字符串进行切片，并返回分割后的字符串列表(list)\n",
    "# 语法：str.split(str=\"\", num)[n]\n",
    "# str: 表示指定的分隔符，默认为空格\n",
    "# n:表示选取第n个分片\n",
    "\n",
    "## --- join: 将序列中的元素以指定的字符连接生成一个新的字符串\n",
    "# 语法：str.join(sequence)\n",
    "# str: 表示指定的连接字符\n",
    "# sequence: 要连接的字符序列"
   ]
  },
  {
   "cell_type": "code",
   "execution_count": null,
   "id": "bd6e690a",
   "metadata": {},
   "outputs": [],
   "source": [
    "'''\n",
    "\n",
    "args = [\n",
    "        pdb2pqr_bin,\n",
    "        \"--ff=parse\",\n",
    "        \"--whitespace\",\n",
    "        \"--noopt\",\n",
    "        \"--apbs-input\",\n",
    "        pdbname,\n",
    "        filename_base,\n",
    "    ]\n",
    "p2 = Popen(args, stdout=PIPE, stderr=PIPE, cwd=directory)\n",
    "stdout, stderr = p2.communicate()\n",
    "  \n",
    "'''\n",
    "\n",
    "## --- subprocess.Popen: 在Python脚本中执行外部程序或脚本\n",
    "##   使用communacate()方法与进程进行通信：将数据发送到进程的标准输入\n",
    "##  并从其标准输出和标准错误中读取数据\n",
    "\n",
    "# 示例：-----------\n",
    "import subprocess\n",
    "\n",
    "# 运行一个外部命令并获取其输出\n",
    "## subprocess.Popen使用一个字符串列表作为参数，此列表包含要执行的命令及其参数\n",
    "process = subprocess.Popen(['ls', '-l'], stdout=subprocess.PIPE)\n",
    "## communicate()方法：启动命令并获取标准输出和标准错误（如果有）\n",
    "output, error = process.communicate()\n",
    "\n",
    "# --------------\n"
   ]
  },
  {
   "cell_type": "code",
   "execution_count": null,
   "id": "d6f84851",
   "metadata": {},
   "outputs": [],
   "source": [
    "'''\n",
    "\n",
    "# Read the charge file\n",
    "    chargefile = open(tmp_file_base + \"_out.csv\")\n",
    "    charges = numpy.array([0.0] * len(vertices))\n",
    "    for ix, line in enumerate(chargefile.readlines()):\n",
    "        charges[ix] = float(line.split(\",\")[3])\n",
    "  \n",
    "'''\n",
    "## --- enumerate: 在for循环中计数，同时获得索引和值\n"
   ]
  },
  {
   "cell_type": "markdown",
   "id": "4bceeb3d",
   "metadata": {},
   "source": [
    "#### Example 2: Hydrophobicity\n",
    "- 返回：vertices一一对应的kd_scale（与氨基酸种类一一对应的Kyte Doolittle scale）列表"
   ]
  },
  {
   "cell_type": "markdown",
   "id": "6afd7db8",
   "metadata": {},
   "source": [
    "#### Example 3: xyzrn.py\n",
    "- 使用Bio.PDB库中的PDBParser()，提取整合PDB文件中的信息\n",
    "- 返回：原子坐标；原子半径；链、残基信息、着色等；此文件将作为MSMS程序的输入文件"
   ]
  },
  {
   "cell_type": "markdown",
   "id": "cc8a0780",
   "metadata": {},
   "source": [
    "#### Example 4: ComputeMSMS.py\n",
    "- **MSMS**: Generate the dot molecular surface (Connolly surface)(SannerMF,OlsonAJ,SpehnerJC(1996)Reducedsurface:Anefficientwaytocompute molecular surfaces. Biopolymers 38:305–320.)\n",
    "- read_msms：读取MSMS程序的输出文件：.vert（vertices）和.face\n",
    "- 返回：vertices, faces, normals, names, areas"
   ]
  },
  {
   "cell_type": "code",
   "execution_count": null,
   "id": "101b204e",
   "metadata": {},
   "outputs": [],
   "source": [
    "'''\n",
    "   meshdata = (vertfile.read().rstrip()).split(\"\\n\")\n",
    "   \n",
    "   assert count[\"vertices\"] == 0\n",
    "'''\n",
    "\n",
    "## --- .rstrip(): 返回删除字符串末尾的指定字符后生成的新字符串：指定字符默认为空白符（包括空格、换行符、回车符、制表符）\n",
    "# 语法：str.rstrip([chars])\n",
    "#  chars：指定删除的字符\n",
    "\n",
    "## --- assert: 检查一个条件（常用于检查参数）：若其为真则不做任何事；为假则打印出错信息并终止程序\n",
    "# 注意：assert的频繁调用会极大的影响程序的性能"
   ]
  },
  {
   "cell_type": "markdown",
   "id": "b7c55ef2",
   "metadata": {},
   "source": [
    "#### Example 5: compute_normal.py\n",
    "- 利用数学知识，求对应于\"face\"的法线单位向量和对应于\"vertice\"的法线单位向量（vertice坐标和面法线向量的相加？）\n",
    "- 返回：一一对应每个vertice的法向向量列表"
   ]
  },
  {
   "cell_type": "markdown",
   "id": "d9d7e8e9",
   "metadata": {},
   "source": [
    "#### Example 6: fixmesh.py\n",
    "- PyMesh：是一个基于Python的开源库，用于处理、生成和优化三维网格模型。它支持多种网格格式，并提供了各种后处理功能，如网格简化、边界修复、模型裁剪等\n",
    "- 返回：规则化处理后的mesh\n",
    "- Pymesh参考https://blog.csdn.net/liuzhicheng1845/article/details/120006005"
   ]
  },
  {
   "cell_type": "code",
   "execution_count": null,
   "id": "2222af3c",
   "metadata": {},
   "outputs": [],
   "source": []
  },
  {
   "cell_type": "markdown",
   "id": "4c98e186",
   "metadata": {},
   "source": [
    "### gif_descriptors\n",
    "- From PNAS 2009\n",
    "- **\"We use the distance-dependent distribution of curvatures as the fingerprint of the patch.\"**\n",
    "- for any vertex vj in the patch, **the curvature between vj and the center vertex vi** can be calculated as kij = θ(|rj+nj-ri–ni|–dij)|nj-ni|/dij,where θ is a **step function**;dij=|rj–ri| is the distance between vi and vj; and **ni, nj, ri and rj are the normals and coordinates** of vi and vj, respectively.\n",
    "- \"Each ***fingerprint*** is comprised of a 2-dimensional (4 by 15) array, with each element corresponding to **the curvature distribution in the bin**.\"\n",
    "- **Geodesic distances(ddc)**: from 1 Å to 9 Å into 4 bins （ In each distance bin, we collect the curvatures at all vertices in that range and generate normalized distributions of the curvatures. ） (MaSIF: using the center of the patch as a reference)\n",
    "- **Curvatures(rho)**: from –0.7 Å-1 to 0.7 Å-1 into 15 bins."
   ]
  },
  {
   "cell_type": "code",
   "execution_count": null,
   "id": "896efe38",
   "metadata": {},
   "outputs": [],
   "source": []
  },
  {
   "cell_type": "code",
   "execution_count": null,
   "id": "872e1dbe",
   "metadata": {},
   "outputs": [],
   "source": []
  },
  {
   "cell_type": "markdown",
   "id": "9b80dd91",
   "metadata": {},
   "source": [
    "### Geometry\n",
    "- 计算patch的极坐标\n",
    "- 返回: 极径；极角；neigh(即同一patch)；掩码（mask?）"
   ]
  },
  {
   "cell_type": "code",
   "execution_count": null,
   "id": "030a4ee3",
   "metadata": {},
   "outputs": [],
   "source": [
    "## --- sklearn.manifold中的 MDS（Multidimensional Scaling，多维缩放）方法：\n",
    "# 是一种用于数据降维的技术：\n",
    "#  可以将高维数据映射到低维空间中，同时尽量保持原始数据点之间的距离关系。\n",
    "# 通常用于可视化高维数据：\n",
    "#  也可以用于聚类分析、图像处理、文本挖掘等领域。\n",
    "\n",
    "## --- scipy.linalg.norm方法：\n",
    "# 计算向量的模长\n",
    "\n",
    "## ---networkx方法： \n",
    "#     https://blog.csdn.net/weixin_44301621/article/details/104683190\n",
    "# ---nx.Graph():无向图\n",
    "\n",
    "\n",
    "## "
   ]
  },
  {
   "cell_type": "markdown",
   "id": "d67b0254",
   "metadata": {},
   "source": [
    "1. **patch**:\n",
    "- (PNAS 2009):We define a patch as **a continuous surface area within a cutoff geodesic distance** (9Å) (FOR PPI interaction) from the center point.(P.S. The average number of vertices per patch is about 500; For a typical protein with 100 residues, the final graph has ~9,000 vertices.)\n",
    "\n",
    "2. **radial_coordinates**: \n",
    "- On a **graph**（networkx）, a geodesic is a collection of adjacent graph edges connecting two vertices.\n",
    "-  For computational efficiency, we used **graph geodesics with weighted edges** (corresponding to the Euclidean distance between the vertices), computed using the Dijkstra algorithm, as an approximation to the true geodesic.\n",
    "- The geodesic distance is the sum of the edge lengths that connect the nodes defined on the surface mesh graph.\n",
    "\n",
    "3. **angular_coordinates**: \n",
    "- A classical multidimensional scaling algorithm --MDS implemented in MATLAB was used to flatten patches into the plane based on the Dijkstra approximation to pairwise geodesic distances between all vertices."
   ]
  },
  {
   "cell_type": "code",
   "execution_count": null,
   "id": "91372bc1",
   "metadata": {},
   "outputs": [],
   "source": []
  }
 ],
 "metadata": {
  "kernelspec": {
   "display_name": "Python 3 (ipykernel)",
   "language": "python",
   "name": "python3"
  },
  "language_info": {
   "codemirror_mode": {
    "name": "ipython",
    "version": 3
   },
   "file_extension": ".py",
   "mimetype": "text/x-python",
   "name": "python",
   "nbconvert_exporter": "python",
   "pygments_lexer": "ipython3",
   "version": "3.9.12"
  }
 },
 "nbformat": 4,
 "nbformat_minor": 5
}
